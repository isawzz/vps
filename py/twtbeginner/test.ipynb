{
 "cells": [
  {
   "cell_type": "code",
   "execution_count": 1,
   "metadata": {},
   "outputs": [
    {
     "name": "stdout",
     "output_type": "stream",
     "text": [
      "[(1, 4), (1, 5), (2, 4), (2, 5), (3, 4), (3, 5)]\n"
     ]
    },
    {
     "data": {
      "text/plain": [
       "[[1, 2, 3], [4, 5]]"
      ]
     },
     "execution_count": 1,
     "metadata": {},
     "output_type": "execute_result"
    }
   ],
   "source": [
    "import cxl\n",
    "c=cxl.cartesian([1,2,3],[4,5]); print(c)\n",
    "y=cxl.cartesian_fold(c)\n",
    "y"
   ]
  },
  {
   "cell_type": "code",
   "execution_count": 8,
   "metadata": {},
   "outputs": [
    {
     "name": "stdout",
     "output_type": "stream",
     "text": [
      "a : 1\n",
      "{\"table\": {\"$1a441b2e740\": {\"!type\": \"omnibelt.basic_containers.adict\", \"!data\": {\"_pairs\": {\"a\": 1}, \"_order\": [\"a\"]}}}, \"ancestry\": {\"omnibelt.basic_containers.adict\": [\"omnibelt.basic_containers.tdict\", \"omnibelt.basic_containers.Container\", \"collections.OrderedDict\", \"builtins.dict\"]}, \"meta\": {}, \"head\": \"$1a441b2e740\"}\n",
      "restored t{a}\n"
     ]
    }
   ],
   "source": [
    "import cxl\n",
    "import omnibelt\n",
    "di = cxl.make_adict('a',[1])\n",
    "type(di.todict()) # dict\n",
    "'a' in di # True\n",
    "di.keys()\n",
    "'a' in di.keys() # True\n",
    "1 in di.values() # True\n",
    "('a',1) in di.items() # True\n",
    "for (k,v) in di.items(): print(k,':',v) # a : 1\n",
    "packed=omnibelt.json_pack(di)\n",
    "print(packed)\n",
    "restored=omnibelt.json_unpack(packed) #di.__unpack__(packed)\n",
    "print('restored',restored) \n"
   ]
  },
  {
   "cell_type": "code",
   "execution_count": 5,
   "metadata": {},
   "outputs": [
    {
     "name": "stdout",
     "output_type": "stream",
     "text": [
      "HAAAAAAAAAAAAAAAAAAAALLLLLLLLLLLLLLLLOOOOOO\n",
      "hallo\n",
      "t{a}\n"
     ]
    }
   ],
   "source": [
    "import m2\n",
    "m2.hallo()\n"
   ]
  },
  {
   "cell_type": "code",
   "execution_count": null,
   "metadata": {},
   "outputs": [],
   "source": [
    "\n",
    "\n",
    "\n"
   ]
  }
 ],
 "metadata": {
  "kernelspec": {
   "display_name": "base",
   "language": "python",
   "name": "python3"
  },
  "language_info": {
   "codemirror_mode": {
    "name": "ipython",
    "version": 3
   },
   "file_extension": ".py",
   "mimetype": "text/x-python",
   "name": "python",
   "nbconvert_exporter": "python",
   "pygments_lexer": "ipython3",
   "version": "3.8.8"
  },
  "orig_nbformat": 4,
  "vscode": {
   "interpreter": {
    "hash": "e4cce46d6be9934fbd27f9ca0432556941ea5bdf741d4f4d64c6cd7f8dfa8fba"
   }
  }
 },
 "nbformat": 4,
 "nbformat_minor": 2
}
